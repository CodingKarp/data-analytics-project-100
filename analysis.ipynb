{
 "cells": [
  {
   "cell_type": "markdown",
   "id": "200e78e6-adb1-4c6f-a366-cc2609a5d44a",
   "metadata": {},
   "source": [
    "# Финальный проект"
   ]
  },
  {
   "cell_type": "markdown",
   "id": "101a4c33-8d52-48e8-9966-f58a458dfae8",
   "metadata": {},
   "source": [
    "## Шаг 1"
   ]
  },
  {
   "cell_type": "markdown",
   "id": "104b6028-c5b7-43ff-a118-cd22246cb4ff",
   "metadata": {},
   "source": [
    "Для начала импортируем необходимые для работы модули"
   ]
  },
  {
   "cell_type": "code",
   "execution_count": 44,
   "id": "20fa518e-1d61-4ad5-973b-d448dc1bad98",
   "metadata": {},
   "outputs": [],
   "source": [
    "import pandas as pd\n",
    "import numpy as np\n",
    "import matplotlib.pyplot as plt\n",
    "import seaborn as sns\n",
    "import requests as req\n",
    "import plotly.express as px\n",
    "from dotenv import load_dotenv\n",
    "import os\n",
    "\n"
   ]
  },
  {
   "cell_type": "markdown",
   "id": "f30349a7-6807-452a-9269-979778c55752",
   "metadata": {},
   "source": [
    "У нас есть два файла. Их необходимо прочитать и записать в переменные."
   ]
  },
  {
   "cell_type": "code",
   "execution_count": 45,
   "id": "f223d344-34bd-42f2-bbac-784f21f446b8",
   "metadata": {},
   "outputs": [],
   "source": [
    "visits = pd.read_csv(\"visits_1k.csv\")\n",
    "registrations = pd.read_csv(\"regs_1k.csv\")"
   ]
  },
  {
   "cell_type": "markdown",
   "id": "d72d14c0-4fd6-4672-b2ac-c1a9ca7ce7f2",
   "metadata": {},
   "source": [
    "Проверим, что все прочиталось верно."
   ]
  },
  {
   "cell_type": "code",
   "execution_count": 46,
   "id": "02d22ba2-481e-4618-b2bb-d18530f76158",
   "metadata": {},
   "outputs": [
    {
     "data": {
      "text/html": [
       "<div>\n",
       "<style scoped>\n",
       "    .dataframe tbody tr th:only-of-type {\n",
       "        vertical-align: middle;\n",
       "    }\n",
       "\n",
       "    .dataframe tbody tr th {\n",
       "        vertical-align: top;\n",
       "    }\n",
       "\n",
       "    .dataframe thead th {\n",
       "        text-align: right;\n",
       "    }\n",
       "</style>\n",
       "<table border=\"1\" class=\"dataframe\">\n",
       "  <thead>\n",
       "    <tr style=\"text-align: right;\">\n",
       "      <th></th>\n",
       "      <th>uuid</th>\n",
       "      <th>platform</th>\n",
       "      <th>user_agent</th>\n",
       "      <th>date</th>\n",
       "    </tr>\n",
       "  </thead>\n",
       "  <tbody>\n",
       "    <tr>\n",
       "      <th>0</th>\n",
       "      <td>1de9ea66-70d3-4a1f-8735-df5ef7697fb9</td>\n",
       "      <td>web</td>\n",
       "      <td>Mozilla/5.0 (Macintosh; Intel Mac OS X 10_11_2...</td>\n",
       "      <td>2023-03-01T13:29:22</td>\n",
       "    </tr>\n",
       "    <tr>\n",
       "      <th>1</th>\n",
       "      <td>f149f542-e935-4870-9734-6b4501eaf614</td>\n",
       "      <td>web</td>\n",
       "      <td>Mozilla/5.0 (X11; CrOS x86_64 8172.45.0) Apple...</td>\n",
       "      <td>2023-03-01T16:44:28</td>\n",
       "    </tr>\n",
       "    <tr>\n",
       "      <th>2</th>\n",
       "      <td>f149f542-e935-4870-9734-6b4501eaf614</td>\n",
       "      <td>web</td>\n",
       "      <td>Mozilla/5.0 (X11; CrOS x86_64 8172.45.0) Apple...</td>\n",
       "      <td>2023-03-06T06:12:36</td>\n",
       "    </tr>\n",
       "    <tr>\n",
       "      <th>3</th>\n",
       "      <td>08f0ebd4-950c-4dd9-8e97-b5bdf073eed1</td>\n",
       "      <td>web</td>\n",
       "      <td>Mozilla/5.0 (X11; Ubuntu; Linux x86_64; rv:109...</td>\n",
       "      <td>2023-03-01T20:16:37</td>\n",
       "    </tr>\n",
       "    <tr>\n",
       "      <th>4</th>\n",
       "      <td>08f0ebd4-950c-4dd9-8e97-b5bdf073eed1</td>\n",
       "      <td>web</td>\n",
       "      <td>Mozilla/5.0 (X11; Ubuntu; Linux x86_64; rv:109...</td>\n",
       "      <td>2023-03-05T17:42:47</td>\n",
       "    </tr>\n",
       "  </tbody>\n",
       "</table>\n",
       "</div>"
      ],
      "text/plain": [
       "                                   uuid platform  \\\n",
       "0  1de9ea66-70d3-4a1f-8735-df5ef7697fb9      web   \n",
       "1  f149f542-e935-4870-9734-6b4501eaf614      web   \n",
       "2  f149f542-e935-4870-9734-6b4501eaf614      web   \n",
       "3  08f0ebd4-950c-4dd9-8e97-b5bdf073eed1      web   \n",
       "4  08f0ebd4-950c-4dd9-8e97-b5bdf073eed1      web   \n",
       "\n",
       "                                          user_agent                 date  \n",
       "0  Mozilla/5.0 (Macintosh; Intel Mac OS X 10_11_2...  2023-03-01T13:29:22  \n",
       "1  Mozilla/5.0 (X11; CrOS x86_64 8172.45.0) Apple...  2023-03-01T16:44:28  \n",
       "2  Mozilla/5.0 (X11; CrOS x86_64 8172.45.0) Apple...  2023-03-06T06:12:36  \n",
       "3  Mozilla/5.0 (X11; Ubuntu; Linux x86_64; rv:109...  2023-03-01T20:16:37  \n",
       "4  Mozilla/5.0 (X11; Ubuntu; Linux x86_64; rv:109...  2023-03-05T17:42:47  "
      ]
     },
     "execution_count": 46,
     "metadata": {},
     "output_type": "execute_result"
    }
   ],
   "source": [
    "visits.head()"
   ]
  },
  {
   "cell_type": "code",
   "execution_count": 47,
   "id": "29dfb27e-4b23-4f64-a074-d90da3cd8c17",
   "metadata": {},
   "outputs": [
    {
     "data": {
      "text/html": [
       "<div>\n",
       "<style scoped>\n",
       "    .dataframe tbody tr th:only-of-type {\n",
       "        vertical-align: middle;\n",
       "    }\n",
       "\n",
       "    .dataframe tbody tr th {\n",
       "        vertical-align: top;\n",
       "    }\n",
       "\n",
       "    .dataframe thead th {\n",
       "        text-align: right;\n",
       "    }\n",
       "</style>\n",
       "<table border=\"1\" class=\"dataframe\">\n",
       "  <thead>\n",
       "    <tr style=\"text-align: right;\">\n",
       "      <th></th>\n",
       "      <th>date</th>\n",
       "      <th>user_id</th>\n",
       "      <th>email</th>\n",
       "      <th>platform</th>\n",
       "      <th>registration_type</th>\n",
       "    </tr>\n",
       "  </thead>\n",
       "  <tbody>\n",
       "    <tr>\n",
       "      <th>0</th>\n",
       "      <td>2023-03-01T00:25:39</td>\n",
       "      <td>8838849</td>\n",
       "      <td>joseph95@example.org</td>\n",
       "      <td>web</td>\n",
       "      <td>google</td>\n",
       "    </tr>\n",
       "    <tr>\n",
       "      <th>1</th>\n",
       "      <td>2023-03-01T14:53:01</td>\n",
       "      <td>8741065</td>\n",
       "      <td>janetsuarez@example.net</td>\n",
       "      <td>web</td>\n",
       "      <td>yandex</td>\n",
       "    </tr>\n",
       "    <tr>\n",
       "      <th>2</th>\n",
       "      <td>2023-03-01T14:27:36</td>\n",
       "      <td>1866654</td>\n",
       "      <td>robert67@example.org</td>\n",
       "      <td>web</td>\n",
       "      <td>google</td>\n",
       "    </tr>\n",
       "    <tr>\n",
       "      <th>3</th>\n",
       "      <td>2023-03-01T02:42:34</td>\n",
       "      <td>1577584</td>\n",
       "      <td>elam@example.net</td>\n",
       "      <td>web</td>\n",
       "      <td>apple</td>\n",
       "    </tr>\n",
       "    <tr>\n",
       "      <th>4</th>\n",
       "      <td>2023-03-01T10:27:14</td>\n",
       "      <td>4765395</td>\n",
       "      <td>stephanie68@example.net</td>\n",
       "      <td>web</td>\n",
       "      <td>yandex</td>\n",
       "    </tr>\n",
       "  </tbody>\n",
       "</table>\n",
       "</div>"
      ],
      "text/plain": [
       "                  date  user_id                    email platform  \\\n",
       "0  2023-03-01T00:25:39  8838849     joseph95@example.org      web   \n",
       "1  2023-03-01T14:53:01  8741065  janetsuarez@example.net      web   \n",
       "2  2023-03-01T14:27:36  1866654     robert67@example.org      web   \n",
       "3  2023-03-01T02:42:34  1577584         elam@example.net      web   \n",
       "4  2023-03-01T10:27:14  4765395  stephanie68@example.net      web   \n",
       "\n",
       "  registration_type  \n",
       "0            google  \n",
       "1            yandex  \n",
       "2            google  \n",
       "3             apple  \n",
       "4            yandex  "
      ]
     },
     "execution_count": 47,
     "metadata": {},
     "output_type": "execute_result"
    }
   ],
   "source": [
    "registrations.head()"
   ]
  },
  {
   "cell_type": "markdown",
   "id": "7588433c-5d51-4399-a74a-fa98a62857d9",
   "metadata": {},
   "source": [
    "На этом шаге, изучим общую информацию о датасетах."
   ]
  },
  {
   "cell_type": "code",
   "execution_count": 48,
   "id": "b9ba3623-6f49-4745-8f4d-f69df2d62605",
   "metadata": {},
   "outputs": [
    {
     "data": {
      "text/html": [
       "<div>\n",
       "<style scoped>\n",
       "    .dataframe tbody tr th:only-of-type {\n",
       "        vertical-align: middle;\n",
       "    }\n",
       "\n",
       "    .dataframe tbody tr th {\n",
       "        vertical-align: top;\n",
       "    }\n",
       "\n",
       "    .dataframe thead th {\n",
       "        text-align: right;\n",
       "    }\n",
       "</style>\n",
       "<table border=\"1\" class=\"dataframe\">\n",
       "  <thead>\n",
       "    <tr style=\"text-align: right;\">\n",
       "      <th></th>\n",
       "      <th>uuid</th>\n",
       "      <th>platform</th>\n",
       "      <th>user_agent</th>\n",
       "      <th>date</th>\n",
       "    </tr>\n",
       "  </thead>\n",
       "  <tbody>\n",
       "    <tr>\n",
       "      <th>count</th>\n",
       "      <td>1000</td>\n",
       "      <td>1000</td>\n",
       "      <td>1000</td>\n",
       "      <td>1000</td>\n",
       "    </tr>\n",
       "    <tr>\n",
       "      <th>unique</th>\n",
       "      <td>519</td>\n",
       "      <td>3</td>\n",
       "      <td>28</td>\n",
       "      <td>996</td>\n",
       "    </tr>\n",
       "    <tr>\n",
       "      <th>top</th>\n",
       "      <td>251a0926-ece3-4d77-aa42-ab569fdf9fe2</td>\n",
       "      <td>web</td>\n",
       "      <td>Mozilla/5.0 (Windows NT 10.0; Win64; x64) Appl...</td>\n",
       "      <td>2023-03-01T08:01:45</td>\n",
       "    </tr>\n",
       "    <tr>\n",
       "      <th>freq</th>\n",
       "      <td>4</td>\n",
       "      <td>954</td>\n",
       "      <td>71</td>\n",
       "      <td>2</td>\n",
       "    </tr>\n",
       "  </tbody>\n",
       "</table>\n",
       "</div>"
      ],
      "text/plain": [
       "                                        uuid platform  \\\n",
       "count                                   1000     1000   \n",
       "unique                                   519        3   \n",
       "top     251a0926-ece3-4d77-aa42-ab569fdf9fe2      web   \n",
       "freq                                       4      954   \n",
       "\n",
       "                                               user_agent                 date  \n",
       "count                                                1000                 1000  \n",
       "unique                                                 28                  996  \n",
       "top     Mozilla/5.0 (Windows NT 10.0; Win64; x64) Appl...  2023-03-01T08:01:45  \n",
       "freq                                                   71                    2  "
      ]
     },
     "execution_count": 48,
     "metadata": {},
     "output_type": "execute_result"
    }
   ],
   "source": [
    "visits.describe()"
   ]
  },
  {
   "cell_type": "markdown",
   "id": "7daf2b22-d4d0-4f23-9223-226aa63926b5",
   "metadata": {},
   "source": [
    "## Шаг 2"
   ]
  },
  {
   "cell_type": "markdown",
   "id": "1a9d83d8-8f1e-41d5-acfb-909570adc931",
   "metadata": {},
   "source": [
    "Сделаем запрос по данным в реальном времени по API с 2023-03-01 по 2023-09-01."
   ]
  },
  {
   "cell_type": "markdown",
   "id": "91f81fd6-c0b1-4486-b3b3-b904549037cf",
   "metadata": {},
   "source": [
    "Для начала подгрузим переменные окружения. Это необходимо для того, что бы не хардкодить их в ноутбуке и в случае необходимости, поменять их в одном файле."
   ]
  },
  {
   "cell_type": "code",
   "execution_count": 49,
   "id": "54b4f191-41a7-45c5-b747-3d42c5061f59",
   "metadata": {},
   "outputs": [
    {
     "name": "stdout",
     "output_type": "stream",
     "text": [
      "2023-03-01 2023-09-01 https://data-charts-api.hexlet.app\n"
     ]
    }
   ],
   "source": [
    "load_dotenv(dotenv_path=\"var.env\")\n",
    "\n",
    "DATE_BEGIN = os.getenv(\"DATE_BEGIN\")\n",
    "DATE_END   = os.getenv(\"DATE_END\")\n",
    "API_URL    = os.getenv(\"API_URL\")\n",
    "\n",
    "print(DATE_BEGIN, DATE_END, API_URL)"
   ]
  },
  {
   "cell_type": "markdown",
   "id": "0e8b24be-4473-4967-9413-7ba7be8220f2",
   "metadata": {},
   "source": [
    "Напишем функцию для получения Датафреймов по API"
   ]
  },
  {
   "cell_type": "code",
   "execution_count": 50,
   "id": "e1ad1310-943d-4ceb-8c72-775b580b6e7b",
   "metadata": {},
   "outputs": [],
   "source": [
    "def fetch_df(endpoint: str, begin: str, end: str) -> pd.DataFrame:\n",
    "    url = f\"{API_URL}/{endpoint}\"\n",
    "    params = {\"begin\": begin, \"end\": end}\n",
    "    r = req.get(url, params=params)\n",
    "    df = pd.DataFrame(r.json())\n",
    "    return df\n",
    "    \n",
    "    \n"
   ]
  },
  {
   "cell_type": "markdown",
   "id": "e9429200-967b-4092-972c-5f109b387910",
   "metadata": {},
   "source": [
    "ДатаФрейм визитов"
   ]
  },
  {
   "cell_type": "code",
   "execution_count": 51,
   "id": "8918d7a3-e052-44d6-9463-392d10c6b0df",
   "metadata": {},
   "outputs": [
    {
     "data": {
      "text/html": [
       "<div>\n",
       "<style scoped>\n",
       "    .dataframe tbody tr th:only-of-type {\n",
       "        vertical-align: middle;\n",
       "    }\n",
       "\n",
       "    .dataframe tbody tr th {\n",
       "        vertical-align: top;\n",
       "    }\n",
       "\n",
       "    .dataframe thead th {\n",
       "        text-align: right;\n",
       "    }\n",
       "</style>\n",
       "<table border=\"1\" class=\"dataframe\">\n",
       "  <thead>\n",
       "    <tr style=\"text-align: right;\">\n",
       "      <th></th>\n",
       "      <th>visit_id</th>\n",
       "      <th>platform</th>\n",
       "      <th>user_agent</th>\n",
       "      <th>datetime</th>\n",
       "    </tr>\n",
       "  </thead>\n",
       "  <tbody>\n",
       "    <tr>\n",
       "      <th>0</th>\n",
       "      <td>1de9ea66-70d3-4a1f-8735-df5ef7697fb9</td>\n",
       "      <td>web</td>\n",
       "      <td>Mozilla/5.0 (Windows NT 10.0; Win64; x64) Appl...</td>\n",
       "      <td>2023-03-01T10:36:22</td>\n",
       "    </tr>\n",
       "    <tr>\n",
       "      <th>1</th>\n",
       "      <td>f149f542-e935-4870-9734-6b4501eaf614</td>\n",
       "      <td>web</td>\n",
       "      <td>Mozilla/5.0 (Windows NT 10.0; WOW64; Trident/7...</td>\n",
       "      <td>2023-03-01T06:25:00</td>\n",
       "    </tr>\n",
       "    <tr>\n",
       "      <th>2</th>\n",
       "      <td>08f0ebd4-950c-4dd9-8e97-b5bdf073eed1</td>\n",
       "      <td>web</td>\n",
       "      <td>Mozilla/5.0 (Macintosh; Intel Mac OS X 10_11_2...</td>\n",
       "      <td>2023-03-01T10:26:13</td>\n",
       "    </tr>\n",
       "    <tr>\n",
       "      <th>3</th>\n",
       "      <td>19322fed-157c-49c6-b16e-2d5cabeb9592</td>\n",
       "      <td>web</td>\n",
       "      <td>Mozilla/5.0 (Macintosh; Intel Mac OS X 10_15_7...</td>\n",
       "      <td>2023-03-01T12:33:06</td>\n",
       "    </tr>\n",
       "    <tr>\n",
       "      <th>4</th>\n",
       "      <td>04762a22-3c9f-40c9-9ac9-6628c4381836</td>\n",
       "      <td>web</td>\n",
       "      <td>Mozilla/5.0 (Windows NT 10.0; Win64; x64) Appl...</td>\n",
       "      <td>2023-03-01T01:38:35</td>\n",
       "    </tr>\n",
       "    <tr>\n",
       "      <th>...</th>\n",
       "      <td>...</td>\n",
       "      <td>...</td>\n",
       "      <td>...</td>\n",
       "      <td>...</td>\n",
       "    </tr>\n",
       "    <tr>\n",
       "      <th>263454</th>\n",
       "      <td>6d2e2f5b-970b-4dfe-8f57-25711a5b2a5d</td>\n",
       "      <td>web</td>\n",
       "      <td>Mozilla/5.0 (Macintosh; Intel Mac OS X 10_15_7...</td>\n",
       "      <td>2023-08-29T10:43:29</td>\n",
       "    </tr>\n",
       "    <tr>\n",
       "      <th>263455</th>\n",
       "      <td>1d91535e-d984-4f76-bbaa-c14c0fd4f2e2</td>\n",
       "      <td>web</td>\n",
       "      <td>Mozilla/5.0 (X11; Ubuntu; Linux x86_64; rv:109...</td>\n",
       "      <td>2023-08-29T19:29:16</td>\n",
       "    </tr>\n",
       "    <tr>\n",
       "      <th>263456</th>\n",
       "      <td>f2496721-7126-430d-976e-777a6cdccb4f</td>\n",
       "      <td>web</td>\n",
       "      <td>Mozilla/5.0 (Windows NT 10.0; Win64; x64) Appl...</td>\n",
       "      <td>2023-08-29T12:51:11</td>\n",
       "    </tr>\n",
       "    <tr>\n",
       "      <th>263457</th>\n",
       "      <td>f2496721-7126-430d-976e-777a6cdccb4f</td>\n",
       "      <td>web</td>\n",
       "      <td>Mozilla/5.0 (Windows NT 10.0; Win64; x64) Appl...</td>\n",
       "      <td>2023-08-29T21:45:08</td>\n",
       "    </tr>\n",
       "    <tr>\n",
       "      <th>263458</th>\n",
       "      <td>73047125-de44-4d65-8229-7218acff4ddc</td>\n",
       "      <td>web</td>\n",
       "      <td>Mozilla/5.0 (X11; Ubuntu; Linux x86_64; rv:109...</td>\n",
       "      <td>2023-08-30T19:19:04</td>\n",
       "    </tr>\n",
       "  </tbody>\n",
       "</table>\n",
       "<p>263459 rows × 4 columns</p>\n",
       "</div>"
      ],
      "text/plain": [
       "                                    visit_id platform  \\\n",
       "0       1de9ea66-70d3-4a1f-8735-df5ef7697fb9      web   \n",
       "1       f149f542-e935-4870-9734-6b4501eaf614      web   \n",
       "2       08f0ebd4-950c-4dd9-8e97-b5bdf073eed1      web   \n",
       "3       19322fed-157c-49c6-b16e-2d5cabeb9592      web   \n",
       "4       04762a22-3c9f-40c9-9ac9-6628c4381836      web   \n",
       "...                                      ...      ...   \n",
       "263454  6d2e2f5b-970b-4dfe-8f57-25711a5b2a5d      web   \n",
       "263455  1d91535e-d984-4f76-bbaa-c14c0fd4f2e2      web   \n",
       "263456  f2496721-7126-430d-976e-777a6cdccb4f      web   \n",
       "263457  f2496721-7126-430d-976e-777a6cdccb4f      web   \n",
       "263458  73047125-de44-4d65-8229-7218acff4ddc      web   \n",
       "\n",
       "                                               user_agent             datetime  \n",
       "0       Mozilla/5.0 (Windows NT 10.0; Win64; x64) Appl...  2023-03-01T10:36:22  \n",
       "1       Mozilla/5.0 (Windows NT 10.0; WOW64; Trident/7...  2023-03-01T06:25:00  \n",
       "2       Mozilla/5.0 (Macintosh; Intel Mac OS X 10_11_2...  2023-03-01T10:26:13  \n",
       "3       Mozilla/5.0 (Macintosh; Intel Mac OS X 10_15_7...  2023-03-01T12:33:06  \n",
       "4       Mozilla/5.0 (Windows NT 10.0; Win64; x64) Appl...  2023-03-01T01:38:35  \n",
       "...                                                   ...                  ...  \n",
       "263454  Mozilla/5.0 (Macintosh; Intel Mac OS X 10_15_7...  2023-08-29T10:43:29  \n",
       "263455  Mozilla/5.0 (X11; Ubuntu; Linux x86_64; rv:109...  2023-08-29T19:29:16  \n",
       "263456  Mozilla/5.0 (Windows NT 10.0; Win64; x64) Appl...  2023-08-29T12:51:11  \n",
       "263457  Mozilla/5.0 (Windows NT 10.0; Win64; x64) Appl...  2023-08-29T21:45:08  \n",
       "263458  Mozilla/5.0 (X11; Ubuntu; Linux x86_64; rv:109...  2023-08-30T19:19:04  \n",
       "\n",
       "[263459 rows x 4 columns]"
      ]
     },
     "execution_count": 51,
     "metadata": {},
     "output_type": "execute_result"
    }
   ],
   "source": [
    "df_visits = fetch_df(\"visits\", DATE_BEGIN, DATE_END)\n",
    "df_visits"
   ]
  },
  {
   "cell_type": "markdown",
   "id": "674a68d1-2411-41a3-8a74-e86412e4b450",
   "metadata": {},
   "source": [
    "Датафрейм регистраций"
   ]
  },
  {
   "cell_type": "code",
   "execution_count": null,
   "id": "13ad61e1-ffbb-45b7-9009-a6ce5e626c45",
   "metadata": {},
   "outputs": [],
   "source": [
    "df_regs = fetch_df(\"registrations\", DATE_BEGIN, DATE_END)\n",
    "df_regs"
   ]
  },
  {
   "cell_type": "markdown",
   "id": "f1140234-9a26-4b49-aa78-0068fd118721",
   "metadata": {},
   "source": [
    "# Шаг 3"
   ]
  },
  {
   "cell_type": "markdown",
   "id": "6a9aa379-e5d5-4c26-9c28-df5aabe28b03",
   "metadata": {},
   "source": [
    "Нам необходимо рассчитать конверсию из визита в регистрацию. В первую очередь необходимо отсеять SEO ботов из визитов. Для этого создадим булеву маски."
   ]
  },
  {
   "cell_type": "markdown",
   "id": "87101f20-181b-4307-90dd-5ebb0397bdec",
   "metadata": {},
   "source": [
    "### Подготовка визитов "
   ]
  },
  {
   "cell_type": "markdown",
   "id": "73653948-cee8-497a-90b1-674fbd403a7a",
   "metadata": {},
   "source": [
    "В первую очередь необходимо отсеять SEO ботов из визитов. Для этого создадим булеву маски."
   ]
  },
  {
   "cell_type": "code",
   "execution_count": null,
   "id": "dfb91e98-641c-4aab-8b0b-f358f74ede30",
   "metadata": {},
   "outputs": [],
   "source": [
    "non_bot_mask = ~df_visits['user_agent'].str.contains('bot', case=False, na=False)"
   ]
  },
  {
   "cell_type": "markdown",
   "id": "afe21efd-94f9-4b2b-aa7f-056a62d59942",
   "metadata": {},
   "source": [
    "применяем маску к Датафрейму visits"
   ]
  },
  {
   "cell_type": "code",
   "execution_count": null,
   "id": "f8653c78-42e1-42c1-981c-278d7a44e834",
   "metadata": {},
   "outputs": [],
   "source": [
    "visits_non_bot = df_visits[non_bot_mask].copy()\n"
   ]
  },
  {
   "cell_type": "markdown",
   "id": "26ae9a07-cb99-4cfc-a1f9-f2add3b4fb73",
   "metadata": {},
   "source": [
    "Приводим колонку Datetime, к необходимому типу. Изначально это object."
   ]
  },
  {
   "cell_type": "code",
   "execution_count": null,
   "id": "69294988-6a03-41e6-9aa3-c04ec70b8cbc",
   "metadata": {},
   "outputs": [],
   "source": [
    "visits_non_bot[\"datetime\"] = pd.to_datetime(visits_non_bot[\"datetime\"], utc=True, errors=\"coerce\")"
   ]
  },
  {
   "cell_type": "markdown",
   "id": "690ae8ac-7357-4281-ab82-ae81d7ccba9b",
   "metadata": {},
   "source": [
    "Берём только последние визиты используя метод .dropduplicates"
   ]
  },
  {
   "cell_type": "code",
   "execution_count": null,
   "id": "946171b5-a2d5-49cf-8100-7291959e708b",
   "metadata": {},
   "outputs": [],
   "source": [
    "last_visits = (visits_non_bot.sort_values(\"datetime\").drop_duplicates(subset=\"visit_id\",keep=\"last\"))"
   ]
  },
  {
   "cell_type": "markdown",
   "id": "0beb1601-cd79-4128-adb8-fc42f40d6504",
   "metadata": {},
   "source": [
    "добавим столбец с только с днем, для оптимальной группировки данных по дню "
   ]
  },
  {
   "cell_type": "code",
   "execution_count": null,
   "id": "3ff25759-c691-404a-94e4-205f27f3a982",
   "metadata": {},
   "outputs": [],
   "source": [
    "last_visits[\"date_group\"] = last_visits[\"datetime\"].dt.date"
   ]
  },
  {
   "cell_type": "markdown",
   "id": "140156d6-b124-43d5-81f8-756940d259f0",
   "metadata": {},
   "source": [
    "Подсчитываем количество визитов в день по 3 платформам "
   ]
  },
  {
   "cell_type": "code",
   "execution_count": null,
   "id": "093ed8a3-3553-47f7-b575-0bd8b2008048",
   "metadata": {},
   "outputs": [],
   "source": [
    "visits_grouped = last_visits.groupby([\"date_group\", \"platform\"]).size().reset_index(name=\"visits\")"
   ]
  },
  {
   "cell_type": "markdown",
   "id": "176573c9-b295-437e-ab86-f59d495c6d3b",
   "metadata": {},
   "source": [
    "### Подготовка регистраций"
   ]
  },
  {
   "cell_type": "code",
   "execution_count": null,
   "id": "336860f9-9231-48ab-9962-69ed4459e2ab",
   "metadata": {},
   "outputs": [],
   "source": [
    "df_regs[\"datetime\"] = pd.to_datetime(df_regs[\"datetime\"], utc=True, errors=\"coerce\")\n",
    "df_regs[\"date_group\"] = df_regs[\"datetime\"].dt.date\n",
    "regs_grouped = df_regs.groupby([\"date_group\", \"platform\"]).size().reset_index(name=\"registrations\")"
   ]
  },
  {
   "cell_type": "markdown",
   "id": "61944b00-276e-45d0-9b56-0f35857cd7c3",
   "metadata": {},
   "source": [
    "### Подготовка общего датафрейма"
   ]
  },
  {
   "cell_type": "markdown",
   "id": "0cfab769-6273-46c7-ac51-22509e85a68b",
   "metadata": {},
   "source": [
    "Объединим датафреймы по date_group, platform"
   ]
  },
  {
   "cell_type": "code",
   "execution_count": null,
   "id": "ed3ca9ee-4494-4956-9aa2-96c615a9f6ee",
   "metadata": {},
   "outputs": [],
   "source": [
    "conversion_df = visits_grouped.merge(regs_grouped, on=[\"date_group\", \"platform\"],how=\"left\")\n"
   ]
  },
  {
   "cell_type": "markdown",
   "id": "0e81af43-14ff-4709-8116-fa8ea88f146a",
   "metadata": {},
   "source": [
    "Вычислим конверсию"
   ]
  },
  {
   "cell_type": "code",
   "execution_count": null,
   "id": "34265c26-418f-4812-a35b-2d758225bf4c",
   "metadata": {},
   "outputs": [],
   "source": [
    "conversion_df[\"conversion\"] = ((conversion_df[\"registrations\"] / conversion_df[\"visits\"]) * 100).round(2)"
   ]
  },
  {
   "cell_type": "markdown",
   "id": "4f69aa2b-0357-404c-91da-6702d4a99941",
   "metadata": {},
   "source": [
    "Записываем Датафрейм в json файл "
   ]
  },
  {
   "cell_type": "code",
   "execution_count": null,
   "id": "fac59768-31fc-4413-8158-865b87541048",
   "metadata": {},
   "outputs": [],
   "source": [
    "conversion_df.to_json(\"./conversion.json\")"
   ]
  },
  {
   "cell_type": "markdown",
   "id": "e37b9f9b-d334-4fb3-9734-210f11dc1a7d",
   "metadata": {},
   "source": [
    "## Шаг 4"
   ]
  },
  {
   "cell_type": "markdown",
   "id": "1deb13a6-1cfb-4444-b34b-c0a29bc353ec",
   "metadata": {},
   "source": [
    "В этом шаге добавим данные по рекламным кампаниям. На выходе получим датафрейм со следующими полями:\n",
    "\n",
    "    date_group — дата\n",
    "    visits — визиты в дату\n",
    "    registrations — регистрации в дату\n",
    "    cost — затраты на рекламу, 0 если не было затрат\n",
    "    utm_campaign — название рекламной кампании, none если не было в этот период рекламы\n"
   ]
  },
  {
   "cell_type": "markdown",
   "id": "0fccb0da-f214-4f98-8996-921369106f02",
   "metadata": {},
   "source": [
    "В первую очередь необходимо, создать датафрейм из csv файла и привести колнку с датами к datetime. "
   ]
  },
  {
   "cell_type": "code",
   "execution_count": null,
   "id": "fdea6ed8-4ec9-4926-b1ec-a4bbe0d53642",
   "metadata": {},
   "outputs": [],
   "source": [
    "ads_df = pd.read_csv(\"./ads.csv\")"
   ]
  },
  {
   "cell_type": "code",
   "execution_count": null,
   "id": "d347094f-3b59-42b7-82b1-f22425ac7e69",
   "metadata": {},
   "outputs": [],
   "source": [
    "ads_df.info()"
   ]
  },
  {
   "cell_type": "markdown",
   "id": "5131928b-8693-40bf-8df5-1e7b49f47bbb",
   "metadata": {},
   "source": [
    "Обработаем таблицу"
   ]
  },
  {
   "cell_type": "code",
   "execution_count": null,
   "id": "996b7b98-acd3-4b05-8550-3ed5f0f03a12",
   "metadata": {},
   "outputs": [],
   "source": [
    "ads_df[\"date\"] = pd.to_datetime(ads_df[\"date\"], utc=True,errors=\"coerce\")\n",
    "ads_df[\"date_group\"] = ads_df[\"date\"].dt.date\n",
    "ads_df = ads_df.groupby([\"date_group\", \"utm_campaign\"]).agg({\"cost\": \"sum\"}).reset_index()"
   ]
  },
  {
   "cell_type": "markdown",
   "id": "74f63588-12e9-4cb6-ae6e-af3cfc0f7752",
   "metadata": {},
   "source": [
    "Подготовим таблицу с визитами и регистрациями. Сделаем ее из датафрейма конверсий."
   ]
  },
  {
   "cell_type": "code",
   "execution_count": null,
   "id": "946c55ca-94a2-4096-9adf-580dd3e831f9",
   "metadata": {},
   "outputs": [],
   "source": [
    "visits_and_regs = conversion_df.copy()\n",
    "visits_and_regs = visits_and_regs.drop([\"conversion\",], axis=1)\n",
    "agg_dict ={\"visits\": \"sum\", \"registrations\": \"sum\"}\n",
    "visits_and_regs = visits_and_regs.groupby([\"date_group\"]).agg(agg_dict).reset_index()"
   ]
  },
  {
   "cell_type": "markdown",
   "id": "234e7da8-03e0-4d86-85ef-d4af30eea6b0",
   "metadata": {},
   "source": [
    "Делаеам датафрейм по заданному условию"
   ]
  },
  {
   "cell_type": "code",
   "execution_count": null,
   "id": "3b0f7ee4-93a1-421c-922d-5f12e48f074b",
   "metadata": {},
   "outputs": [],
   "source": [
    "ads = pd.merge(visits_and_regs, \n",
    "                    ads_df,\n",
    "                    how=\"left\",\n",
    "                    on=\"date_group\")\n",
    "ads[\"cost\"] = ads[\"cost\"].fillna(0)\n",
    "ads.to_json(\"./ads.json\")"
   ]
  },
  {
   "cell_type": "markdown",
   "id": "3d0f012a-0d92-459d-b52e-564eb3d3d2a5",
   "metadata": {},
   "source": [
    "## Шаг 4. Визуализация"
   ]
  },
  {
   "cell_type": "markdown",
   "id": "d7be0c81-3677-4ebb-bf01-6215c427061e",
   "metadata": {},
   "source": [
    "### Итоговые визиты"
   ]
  },
  {
   "cell_type": "code",
   "execution_count": null,
   "id": "cd584667-f2cd-4686-bb0d-dd2bcd831de2",
   "metadata": {},
   "outputs": [],
   "source": [
    "total_visits = ads.groupby([\"date_group\"]).agg({\"visits\":\"sum\"}).reset_index() #подготовка данных\n",
    "date_limit = pd.to_datetime(\"2023-04-30\")\n",
    "total_visits[\"date_group\"] = pd.to_datetime(total_visits[\"date_group\"])\n",
    "filtered_visits = total_visits[total_visits[\"date_group\"] <= date_limit]"
   ]
  },
  {
   "cell_type": "code",
   "execution_count": null,
   "id": "f7212f7a-d7f0-455c-bbfb-2bbd3fbddfcf",
   "metadata": {},
   "outputs": [],
   "source": [
    "fig, ax = plt.subplots(figsize=(15, 7))\n",
    "sns.barplot(x=\"date_group\", y=\"visits\", data=filtered_visits, color=\"orange\")\n",
    "ax.bar_label(ax.containers[0], fontsize=8)\n",
    "plt.xticks(rotation=75)\n",
    "plt.xlabel(\"Date\")\n",
    "plt.ylabel(\"Visits\", rotation=360)\n",
    "plt.title(\"Total visits\")\n",
    "plt.grid()\n",
    "plt.savefig(\"./charts/final_visits_barplot.png\")\n",
    "plt.show()\n"
   ]
  },
  {
   "cell_type": "markdown",
   "id": "9cafe57b-aa9b-4486-9149-472cad5a2c5c",
   "metadata": {},
   "source": [
    "### Итоговые визиты с разбивкой по платформам: web, android, ios"
   ]
  },
  {
   "cell_type": "code",
   "execution_count": null,
   "id": "cbdc829f-83fd-4c74-9455-99de8e2d1c4a",
   "metadata": {},
   "outputs": [],
   "source": [
    "visits_by_platform = conversion_df.groupby([\"date_group\", \"platform\" ]).agg({\"visits\":\"sum\"}).reset_index() #подготовка данных\n",
    "visits_by_platform[\"date_group\"] = pd.to_datetime(visits_by_platform[\"date_group\"])\n",
    "filtered_visits_by_platform = visits_by_platform[visits_by_platform['date_group'] <= date_limit]"
   ]
  },
  {
   "cell_type": "code",
   "execution_count": null,
   "id": "6ba2182b-0835-41fc-84a6-0eca6f204830",
   "metadata": {},
   "outputs": [],
   "source": [
    "plt.figure(figsize=(15, 7))\n",
    "sns.barplot(x=\"date_group\", y=\"visits\", hue=\"platform\", data=filtered_visits_by_platform)\n",
    "plt.xlabel(\"Date\")\n",
    "plt.ylabel(\"Visits\", rotation=360)\n",
    "plt.title(\"Visits by platform\")\n",
    "plt.xticks(rotation=75)\n",
    "plt.grid()\n",
    "plt.savefig('./charts/final_visits_by_platform_chart.png')\n",
    "plt.show()"
   ]
  },
  {
   "cell_type": "markdown",
   "id": "239fc4e6-0945-4123-ace3-7a28992d4c3a",
   "metadata": {},
   "source": [
    "## Итоговые регистрации"
   ]
  },
  {
   "cell_type": "code",
   "execution_count": null,
   "id": "d35608be-d50e-44be-a890-2e76cdcac360",
   "metadata": {},
   "outputs": [],
   "source": [
    "total_regs = ads.groupby([\"date_group\"]).agg({\"registrations\":\"sum\"}).reset_index() #подготовка данных\n",
    "total_regs[\"date_group\"] = pd.to_datetime(total_regs[\"date_group\"])\n",
    "filtered_regs = total_regs[total_visits[\"date_group\"] <= date_limit]"
   ]
  },
  {
   "cell_type": "code",
   "execution_count": null,
   "id": "2fb54a86-40bd-40df-b2ee-02f67f7eb213",
   "metadata": {},
   "outputs": [],
   "source": [
    "fig, ax = plt.subplots(figsize=(15, 7))\n",
    "sns.barplot(x=\"date_group\", y=\"registrations\", data=filtered_regs, color=\"green\")\n",
    "ax.bar_label(ax.containers[0], fontsize=7)\n",
    "plt.xticks(rotation=75)\n",
    "plt.xlabel(\"Date\")\n",
    "plt.ylabel(\"Registrations\")\n",
    "plt.title(\"Total registrations\")\n",
    "plt.grid()\n",
    "plt.savefig(\"./charts/final_regs_barplot.png\")\n",
    "plt.show()"
   ]
  },
  {
   "cell_type": "markdown",
   "id": "6ee7c00e-3d7c-446d-8d23-be6bc0770f6f",
   "metadata": {},
   "source": [
    "## Регистрации по платформам"
   ]
  },
  {
   "cell_type": "code",
   "execution_count": null,
   "id": "2ddab6c3-2535-4b18-b985-a381972780b5",
   "metadata": {},
   "outputs": [],
   "source": [
    "regs_by_platform = conversion_df.groupby([\"date_group\", \"platform\"]).agg({\"registrations\":\"sum\"}).reset_index() #подготовка данных\n",
    "regs_by_platform[\"date_group\"] = pd.to_datetime(regs_by_platform[\"date_group\"])\n",
    "filtered_regs_by_platform = regs_by_platform[regs_by_platform['date_group'] <= date_limit]"
   ]
  },
  {
   "cell_type": "code",
   "execution_count": null,
   "id": "b1f952fe-877f-46f3-8982-19e3bdbc17e5",
   "metadata": {},
   "outputs": [],
   "source": [
    "plt.figure(figsize=(15, 7))\n",
    "sns.histplot(x=\"date_group\", weights=\"registrations\", hue=\"platform\", data=filtered_regs_by_platform, multiple=\"stack\", bins=len(filtered_regs_by_platform[\"date_group\"].unique()))\n",
    "plt.xlabel(\"Date\")\n",
    "plt.ylabel(\"Registrations\")\n",
    "plt.title(\"Registrations by platform\")\n",
    "plt.xticks(rotation=75)\n",
    "plt.grid()\n",
    "plt.savefig('./charts/final_registrations_by_platform_barplot.png')\n",
    "plt.show()"
   ]
  },
  {
   "cell_type": "markdown",
   "id": "4d72bcb8-0df5-4937-84d1-f42f8ee4116c",
   "metadata": {},
   "source": [
    "## Конверсии по платформам"
   ]
  },
  {
   "cell_type": "code",
   "execution_count": null,
   "id": "f023dedc-e934-4a3a-a732-6723fdac7df7",
   "metadata": {},
   "outputs": [],
   "source": [
    "\n",
    "conversion_df[\"date_group\"] = pd.to_datetime(conversion_df[\"date_group\"])\n",
    "platforms = conversion_df[\"platform\"].unique()\n",
    "\n",
    "for platform in platforms:\n",
    "    subset = conversion_df[conversion_df[\"platform\"] == platform]\n",
    "    subset = subset[subset[\"date_group\"] <= date_limit] \n",
    "\n",
    "    plt.figure(figsize=(10,5))\n",
    "    plt.plot(subset[\"date_group\"], subset[\"conversion\"], marker=\"o\", linestyle=\"dashed\", color=\"green\")\n",
    "    plt.title(f\"Conversion: {platform}\")\n",
    "    plt.xlabel(\"Date\")\n",
    "    plt.ylabel(\"Conversion (%)\")\n",
    "    plt.xticks(rotation=45)\n",
    "    plt.grid()\n",
    "    plt.tight_layout()\n",
    "    plt.savefig(f\"./charts/conversion_{platform}.png\")\n",
    "    plt.show()"
   ]
  },
  {
   "cell_type": "markdown",
   "id": "2e85a5f7-59b1-4047-a440-295427a7552d",
   "metadata": {},
   "source": [
    "## Средняя конверсия"
   ]
  },
  {
   "cell_type": "code",
   "execution_count": null,
   "id": "d886c819-79f8-45ef-8eed-21eaae59d55e",
   "metadata": {},
   "outputs": [],
   "source": [
    "mean_conversion = conversion_df.groupby(\"date_group\").agg({\"conversion\":\"mean\"}).reset_index() #подготовка данных"
   ]
  },
  {
   "cell_type": "code",
   "execution_count": null,
   "id": "d2ef2b2a-484b-47da-ba55-481cc0d0015b",
   "metadata": {},
   "outputs": [],
   "source": [
    "plt.figure(figsize=(12,6))\n",
    "plt.plot(mean_conversion[\"date_group\"], mean_conversion[\"conversion\"], marker=\"o\", color=\"purple\")\n",
    "plt.title(\"Average Conversion Over Time\")\n",
    "plt.xlabel(\"Date\")\n",
    "plt.ylabel(\"Average Conversion (%)\")\n",
    "plt.xticks(rotation=45)\n",
    "plt.grid()\n",
    "plt.tight_layout()\n",
    "plt.savefig(\"./charts/avg_conversion.png\", dpi=150)\n",
    "plt.show()\n"
   ]
  },
  {
   "cell_type": "markdown",
   "id": "78d19a63-bf14-40b3-82e2-59895facfa90",
   "metadata": {},
   "source": [
    "## Стоимость реклам"
   ]
  },
  {
   "cell_type": "code",
   "execution_count": null,
   "id": "95933aff-d7ca-476d-8fa8-9a8c52d6c58e",
   "metadata": {},
   "outputs": [],
   "source": [
    "daily_costs = (ads.groupby(\"date_group\", as_index=False)[\"cost\"].sum())\n",
    "plt.figure(figsize=(12,6))\n",
    "plt.plot(daily_costs[\"date_group\"], daily_costs[\"cost\"], marker=\"o\", color=\"orange\")\n",
    "plt.title(\"Advertisment cost\")\n",
    "plt.xlabel(\"Date\")\n",
    "plt.ylabel(\"Cost\")\n",
    "plt.xticks(rotation=45)\n",
    "plt.grid()\n",
    "plt.tight_layout()\n",
    "plt.savefig(\"./charts/ads_costs_total.png\")\n",
    "plt.show()"
   ]
  },
  {
   "cell_type": "markdown",
   "id": "007b73d7-c256-4865-921b-3b3bfd07048e",
   "metadata": {},
   "source": [
    "## Визиты за весь период с цветовым выделением рекламной кампании"
   ]
  },
  {
   "cell_type": "code",
   "execution_count": null,
   "id": "422c0f6e-f986-4524-87fa-c0da1d522469",
   "metadata": {},
   "outputs": [],
   "source": [
    "daily_metrics = (conversion_df.groupby(\"date_group\", as_index=False)[[\"visits\", \"registrations\"]].sum()) #подготовка данных\n",
    "daily_metrics[\"date_group\"] = pd.to_datetime(daily_metrics[\"date_group\"]).dt.date\n",
    "ads[\"date_group\"] = pd.to_datetime(ads[\"date_group\"]).dt.date"
   ]
  },
  {
   "cell_type": "code",
   "execution_count": null,
   "id": "0943bb17-98d6-42c4-ab14-bb97a3c86054",
   "metadata": {},
   "outputs": [],
   "source": [
    "visits_with_ads = daily_metrics.merge(\n",
    "    ads[[\"date_group\", \"utm_campaign\"]].drop_duplicates(),\n",
    "    on=\"date_group\",\n",
    "    how=\"left\"\n",
    ").fillna({\"utm_campaign\": \"none\"})\n",
    "\n",
    "plt.figure(figsize=(12,6))\n",
    "\n",
    "plt.plot(visits_with_ads[\"date_group\"], visits_with_ads[\"visits\"], color=\"gray\", alpha=0.5, label=\"visits\")\n",
    "\n",
    "avg_vis= visits_with_ads[\"visits\"].mean()\n",
    "plt.axhline(avg_vis, color=\"grey\", linestyle=\"--\", label= \"mean\")\n",
    "\n",
    "\n",
    "for campaign in visits_with_ads[\"utm_campaign\"].unique():\n",
    "    subset = visits_with_ads[visits_with_ads[\"utm_campaign\"] == campaign]\n",
    "    plt.scatter(subset[\"date_group\"], subset[\"visits\"], label=campaign)\n",
    "\n",
    "plt.title(\"Visits during marketing activities\")\n",
    "plt.xlabel(\"Date\")\n",
    "plt.ylabel(\"Visits\")\n",
    "plt.xticks(rotation=45)\n",
    "plt.legend(title=\"Campaign\", bbox_to_anchor=(1.05, 1), loc=\"upper left\")\n",
    "plt.grid()\n",
    "plt.tight_layout()\n",
    "plt.savefig(\"./charts/visits_with_campaigns.png\", dpi=150)\n",
    "plt.show()"
   ]
  },
  {
   "cell_type": "markdown",
   "id": "4c8bf637-ecd1-497c-94e2-98e759e47d50",
   "metadata": {},
   "source": [
    "## Регистрации за весь период с цветовым выделением рекламной кампании"
   ]
  },
  {
   "cell_type": "code",
   "execution_count": null,
   "id": "997c75d8-4ca8-4d5e-8f9b-64935a35fd3a",
   "metadata": {},
   "outputs": [],
   "source": [
    "regs_with_ads = daily_metrics.merge(\n",
    "    ads[[\"date_group\", \"utm_campaign\"]].drop_duplicates(),\n",
    "    on=\"date_group\",\n",
    "    how=\"left\"\n",
    ").fillna({\"utm_campaign\": \"none\"}) #подготовка данных\n",
    "\n",
    "plt.figure(figsize=(12,6))\n",
    "\n",
    "plt.plot(regs_with_ads[\"date_group\"], regs_with_ads[\"registrations\"], color=\"gray\", alpha=0.5, label=\"registrations\")\n",
    "\n",
    "avg_regs = regs_with_ads[\"registrations\"].mean()\n",
    "plt.axhline(avg_regs, color=\"grey\", linestyle=\"--\", label= \"mean\")\n",
    "\n",
    "for campaign in regs_with_ads[\"utm_campaign\"].unique():\n",
    "    subset = regs_with_ads[regs_with_ads[\"utm_campaign\"] == campaign]\n",
    "    plt.scatter(subset[\"date_group\"], subset[\"registrations\"], label=campaign)\n",
    "\n",
    "plt.title(\"Registrations during marketing activities\")\n",
    "plt.xlabel(\"Date\")\n",
    "plt.ylabel(\"Registrations\")\n",
    "plt.xticks(rotation=45)\n",
    "plt.legend(title=\"Campaign\", bbox_to_anchor=(1.05, 1), loc=\"upper left\")\n",
    "plt.grid()\n",
    "plt.tight_layout()\n",
    "plt.savefig(\"./charts/registrations_with_campaigns.png\")\n",
    "plt.show()"
   ]
  }
 ],
 "metadata": {
  "kernelspec": {
   "display_name": "Python [conda env:base] *",
   "language": "python",
   "name": "conda-base-py"
  },
  "language_info": {
   "codemirror_mode": {
    "name": "ipython",
    "version": 3
   },
   "file_extension": ".py",
   "mimetype": "text/x-python",
   "name": "python",
   "nbconvert_exporter": "python",
   "pygments_lexer": "ipython3",
   "version": "3.13.5"
  }
 },
 "nbformat": 4,
 "nbformat_minor": 5
}
