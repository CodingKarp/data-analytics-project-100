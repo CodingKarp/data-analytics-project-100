{
 "cells": [
  {
   "cell_type": "markdown",
   "id": "200e78e6-adb1-4c6f-a366-cc2609a5d44a",
   "metadata": {},
   "source": [
    "# Финальный проект"
   ]
  },
  {
   "cell_type": "markdown",
   "id": "101a4c33-8d52-48e8-9966-f58a458dfae8",
   "metadata": {},
   "source": [
    "## Шаг 1"
   ]
  },
  {
   "cell_type": "markdown",
   "id": "104b6028-c5b7-43ff-a118-cd22246cb4ff",
   "metadata": {},
   "source": [
    "Для начала импортируем необходимые для работы модули"
   ]
  },
  {
   "cell_type": "code",
   "execution_count": 100,
   "id": "20fa518e-1d61-4ad5-973b-d448dc1bad98",
   "metadata": {},
   "outputs": [],
   "source": [
    "import pandas as pd\n",
    "import numpy as np\n",
    "import matplotlib.pyplot as plt\n",
    "import seaborn as sns\n",
    "import requests as req\n",
    "import plotly.express as px\n",
    "from dotenv import load_dotenv\n",
    "import os\n",
    "\n"
   ]
  },
  {
   "cell_type": "markdown",
   "id": "f30349a7-6807-452a-9269-979778c55752",
   "metadata": {},
   "source": [
    "У нас есть два файла. Их необходимо прочитать и записать в переменные."
   ]
  },
  {
   "cell_type": "code",
   "execution_count": 101,
   "id": "f223d344-34bd-42f2-bbac-784f21f446b8",
   "metadata": {},
   "outputs": [],
   "source": [
    "visits = pd.read_csv(\"visits_1k.csv\")\n",
    "registrations = pd.read_csv(\"regs_1k.csv\")"
   ]
  },
  {
   "cell_type": "markdown",
   "id": "d72d14c0-4fd6-4672-b2ac-c1a9ca7ce7f2",
   "metadata": {},
   "source": [
    "Проверим, что все прочиталось верно."
   ]
  },
  {
   "cell_type": "code",
   "execution_count": 102,
   "id": "02d22ba2-481e-4618-b2bb-d18530f76158",
   "metadata": {},
   "outputs": [
    {
     "data": {
      "text/html": [
       "<div>\n",
       "<style scoped>\n",
       "    .dataframe tbody tr th:only-of-type {\n",
       "        vertical-align: middle;\n",
       "    }\n",
       "\n",
       "    .dataframe tbody tr th {\n",
       "        vertical-align: top;\n",
       "    }\n",
       "\n",
       "    .dataframe thead th {\n",
       "        text-align: right;\n",
       "    }\n",
       "</style>\n",
       "<table border=\"1\" class=\"dataframe\">\n",
       "  <thead>\n",
       "    <tr style=\"text-align: right;\">\n",
       "      <th></th>\n",
       "      <th>uuid</th>\n",
       "      <th>platform</th>\n",
       "      <th>user_agent</th>\n",
       "      <th>date</th>\n",
       "    </tr>\n",
       "  </thead>\n",
       "  <tbody>\n",
       "    <tr>\n",
       "      <th>0</th>\n",
       "      <td>1de9ea66-70d3-4a1f-8735-df5ef7697fb9</td>\n",
       "      <td>web</td>\n",
       "      <td>Mozilla/5.0 (Macintosh; Intel Mac OS X 10_11_2...</td>\n",
       "      <td>2023-03-01T13:29:22</td>\n",
       "    </tr>\n",
       "    <tr>\n",
       "      <th>1</th>\n",
       "      <td>f149f542-e935-4870-9734-6b4501eaf614</td>\n",
       "      <td>web</td>\n",
       "      <td>Mozilla/5.0 (X11; CrOS x86_64 8172.45.0) Apple...</td>\n",
       "      <td>2023-03-01T16:44:28</td>\n",
       "    </tr>\n",
       "    <tr>\n",
       "      <th>2</th>\n",
       "      <td>f149f542-e935-4870-9734-6b4501eaf614</td>\n",
       "      <td>web</td>\n",
       "      <td>Mozilla/5.0 (X11; CrOS x86_64 8172.45.0) Apple...</td>\n",
       "      <td>2023-03-06T06:12:36</td>\n",
       "    </tr>\n",
       "    <tr>\n",
       "      <th>3</th>\n",
       "      <td>08f0ebd4-950c-4dd9-8e97-b5bdf073eed1</td>\n",
       "      <td>web</td>\n",
       "      <td>Mozilla/5.0 (X11; Ubuntu; Linux x86_64; rv:109...</td>\n",
       "      <td>2023-03-01T20:16:37</td>\n",
       "    </tr>\n",
       "    <tr>\n",
       "      <th>4</th>\n",
       "      <td>08f0ebd4-950c-4dd9-8e97-b5bdf073eed1</td>\n",
       "      <td>web</td>\n",
       "      <td>Mozilla/5.0 (X11; Ubuntu; Linux x86_64; rv:109...</td>\n",
       "      <td>2023-03-05T17:42:47</td>\n",
       "    </tr>\n",
       "  </tbody>\n",
       "</table>\n",
       "</div>"
      ],
      "text/plain": [
       "                                   uuid platform  \\\n",
       "0  1de9ea66-70d3-4a1f-8735-df5ef7697fb9      web   \n",
       "1  f149f542-e935-4870-9734-6b4501eaf614      web   \n",
       "2  f149f542-e935-4870-9734-6b4501eaf614      web   \n",
       "3  08f0ebd4-950c-4dd9-8e97-b5bdf073eed1      web   \n",
       "4  08f0ebd4-950c-4dd9-8e97-b5bdf073eed1      web   \n",
       "\n",
       "                                          user_agent                 date  \n",
       "0  Mozilla/5.0 (Macintosh; Intel Mac OS X 10_11_2...  2023-03-01T13:29:22  \n",
       "1  Mozilla/5.0 (X11; CrOS x86_64 8172.45.0) Apple...  2023-03-01T16:44:28  \n",
       "2  Mozilla/5.0 (X11; CrOS x86_64 8172.45.0) Apple...  2023-03-06T06:12:36  \n",
       "3  Mozilla/5.0 (X11; Ubuntu; Linux x86_64; rv:109...  2023-03-01T20:16:37  \n",
       "4  Mozilla/5.0 (X11; Ubuntu; Linux x86_64; rv:109...  2023-03-05T17:42:47  "
      ]
     },
     "execution_count": 102,
     "metadata": {},
     "output_type": "execute_result"
    }
   ],
   "source": [
    "visits.head()"
   ]
  },
  {
   "cell_type": "code",
   "execution_count": 103,
   "id": "29dfb27e-4b23-4f64-a074-d90da3cd8c17",
   "metadata": {},
   "outputs": [
    {
     "data": {
      "text/html": [
       "<div>\n",
       "<style scoped>\n",
       "    .dataframe tbody tr th:only-of-type {\n",
       "        vertical-align: middle;\n",
       "    }\n",
       "\n",
       "    .dataframe tbody tr th {\n",
       "        vertical-align: top;\n",
       "    }\n",
       "\n",
       "    .dataframe thead th {\n",
       "        text-align: right;\n",
       "    }\n",
       "</style>\n",
       "<table border=\"1\" class=\"dataframe\">\n",
       "  <thead>\n",
       "    <tr style=\"text-align: right;\">\n",
       "      <th></th>\n",
       "      <th>date</th>\n",
       "      <th>user_id</th>\n",
       "      <th>email</th>\n",
       "      <th>platform</th>\n",
       "      <th>registration_type</th>\n",
       "    </tr>\n",
       "  </thead>\n",
       "  <tbody>\n",
       "    <tr>\n",
       "      <th>0</th>\n",
       "      <td>2023-03-01T00:25:39</td>\n",
       "      <td>8838849</td>\n",
       "      <td>joseph95@example.org</td>\n",
       "      <td>web</td>\n",
       "      <td>google</td>\n",
       "    </tr>\n",
       "    <tr>\n",
       "      <th>1</th>\n",
       "      <td>2023-03-01T14:53:01</td>\n",
       "      <td>8741065</td>\n",
       "      <td>janetsuarez@example.net</td>\n",
       "      <td>web</td>\n",
       "      <td>yandex</td>\n",
       "    </tr>\n",
       "    <tr>\n",
       "      <th>2</th>\n",
       "      <td>2023-03-01T14:27:36</td>\n",
       "      <td>1866654</td>\n",
       "      <td>robert67@example.org</td>\n",
       "      <td>web</td>\n",
       "      <td>google</td>\n",
       "    </tr>\n",
       "    <tr>\n",
       "      <th>3</th>\n",
       "      <td>2023-03-01T02:42:34</td>\n",
       "      <td>1577584</td>\n",
       "      <td>elam@example.net</td>\n",
       "      <td>web</td>\n",
       "      <td>apple</td>\n",
       "    </tr>\n",
       "    <tr>\n",
       "      <th>4</th>\n",
       "      <td>2023-03-01T10:27:14</td>\n",
       "      <td>4765395</td>\n",
       "      <td>stephanie68@example.net</td>\n",
       "      <td>web</td>\n",
       "      <td>yandex</td>\n",
       "    </tr>\n",
       "  </tbody>\n",
       "</table>\n",
       "</div>"
      ],
      "text/plain": [
       "                  date  user_id                    email platform  \\\n",
       "0  2023-03-01T00:25:39  8838849     joseph95@example.org      web   \n",
       "1  2023-03-01T14:53:01  8741065  janetsuarez@example.net      web   \n",
       "2  2023-03-01T14:27:36  1866654     robert67@example.org      web   \n",
       "3  2023-03-01T02:42:34  1577584         elam@example.net      web   \n",
       "4  2023-03-01T10:27:14  4765395  stephanie68@example.net      web   \n",
       "\n",
       "  registration_type  \n",
       "0            google  \n",
       "1            yandex  \n",
       "2            google  \n",
       "3             apple  \n",
       "4            yandex  "
      ]
     },
     "execution_count": 103,
     "metadata": {},
     "output_type": "execute_result"
    }
   ],
   "source": [
    "registrations.head()"
   ]
  },
  {
   "cell_type": "markdown",
   "id": "7588433c-5d51-4399-a74a-fa98a62857d9",
   "metadata": {},
   "source": [
    "На этом шаге, изучим общую информацию о датасетах."
   ]
  },
  {
   "cell_type": "code",
   "execution_count": 104,
   "id": "b9ba3623-6f49-4745-8f4d-f69df2d62605",
   "metadata": {},
   "outputs": [
    {
     "data": {
      "text/html": [
       "<div>\n",
       "<style scoped>\n",
       "    .dataframe tbody tr th:only-of-type {\n",
       "        vertical-align: middle;\n",
       "    }\n",
       "\n",
       "    .dataframe tbody tr th {\n",
       "        vertical-align: top;\n",
       "    }\n",
       "\n",
       "    .dataframe thead th {\n",
       "        text-align: right;\n",
       "    }\n",
       "</style>\n",
       "<table border=\"1\" class=\"dataframe\">\n",
       "  <thead>\n",
       "    <tr style=\"text-align: right;\">\n",
       "      <th></th>\n",
       "      <th>uuid</th>\n",
       "      <th>platform</th>\n",
       "      <th>user_agent</th>\n",
       "      <th>date</th>\n",
       "    </tr>\n",
       "  </thead>\n",
       "  <tbody>\n",
       "    <tr>\n",
       "      <th>count</th>\n",
       "      <td>1000</td>\n",
       "      <td>1000</td>\n",
       "      <td>1000</td>\n",
       "      <td>1000</td>\n",
       "    </tr>\n",
       "    <tr>\n",
       "      <th>unique</th>\n",
       "      <td>519</td>\n",
       "      <td>3</td>\n",
       "      <td>28</td>\n",
       "      <td>996</td>\n",
       "    </tr>\n",
       "    <tr>\n",
       "      <th>top</th>\n",
       "      <td>251a0926-ece3-4d77-aa42-ab569fdf9fe2</td>\n",
       "      <td>web</td>\n",
       "      <td>Mozilla/5.0 (Windows NT 10.0; Win64; x64) Appl...</td>\n",
       "      <td>2023-03-01T08:01:45</td>\n",
       "    </tr>\n",
       "    <tr>\n",
       "      <th>freq</th>\n",
       "      <td>4</td>\n",
       "      <td>954</td>\n",
       "      <td>71</td>\n",
       "      <td>2</td>\n",
       "    </tr>\n",
       "  </tbody>\n",
       "</table>\n",
       "</div>"
      ],
      "text/plain": [
       "                                        uuid platform  \\\n",
       "count                                   1000     1000   \n",
       "unique                                   519        3   \n",
       "top     251a0926-ece3-4d77-aa42-ab569fdf9fe2      web   \n",
       "freq                                       4      954   \n",
       "\n",
       "                                               user_agent                 date  \n",
       "count                                                1000                 1000  \n",
       "unique                                                 28                  996  \n",
       "top     Mozilla/5.0 (Windows NT 10.0; Win64; x64) Appl...  2023-03-01T08:01:45  \n",
       "freq                                                   71                    2  "
      ]
     },
     "execution_count": 104,
     "metadata": {},
     "output_type": "execute_result"
    }
   ],
   "source": [
    "visits.describe()"
   ]
  },
  {
   "cell_type": "markdown",
   "id": "7daf2b22-d4d0-4f23-9223-226aa63926b5",
   "metadata": {},
   "source": [
    "## Шаг 2"
   ]
  },
  {
   "cell_type": "markdown",
   "id": "1a9d83d8-8f1e-41d5-acfb-909570adc931",
   "metadata": {},
   "source": [
    "Сделаем запрос по данным в реальном времени по API с 2023-03-01 по 2023-09-01."
   ]
  },
  {
   "cell_type": "markdown",
   "id": "91f81fd6-c0b1-4486-b3b3-b904549037cf",
   "metadata": {},
   "source": [
    "Для начала подгрузим переменные окружения. Это необходимо для того, что бы не хардкодить их в ноутбуке и в случае необходимости, поменять их в одном файле."
   ]
  },
  {
   "cell_type": "code",
   "execution_count": 105,
   "id": "54b4f191-41a7-45c5-b747-3d42c5061f59",
   "metadata": {},
   "outputs": [
    {
     "name": "stdout",
     "output_type": "stream",
     "text": [
      "2023-03-01 2023-09-01 https://data-charts-api.hexlet.app\n"
     ]
    }
   ],
   "source": [
    "load_dotenv(dotenv_path=\"var.env\")\n",
    "\n",
    "DATE_BEGIN = os.getenv(\"DATE_BEGIN\")\n",
    "DATE_END   = os.getenv(\"DATE_END\")\n",
    "API_URL    = os.getenv(\"API_URL\")\n",
    "\n",
    "print(DATE_BEGIN, DATE_END, API_URL)"
   ]
  },
  {
   "cell_type": "markdown",
   "id": "0e8b24be-4473-4967-9413-7ba7be8220f2",
   "metadata": {},
   "source": [
    "Напишем функцию для получения Датафреймов по API"
   ]
  },
  {
   "cell_type": "code",
   "execution_count": 106,
   "id": "e1ad1310-943d-4ceb-8c72-775b580b6e7b",
   "metadata": {},
   "outputs": [],
   "source": [
    "def fetch_df(endpoint: str, begin: str, end: str) -> pd.DataFrame:\n",
    "    url = f\"{API_URL}/{endpoint}\"\n",
    "    params = {\"begin\": begin, \"end\": end}\n",
    "    r = req.get(url, params=params)\n",
    "    df = pd.DataFrame(r.json())\n",
    "    return df\n",
    "    \n",
    "    \n"
   ]
  },
  {
   "cell_type": "markdown",
   "id": "e9429200-967b-4092-972c-5f109b387910",
   "metadata": {},
   "source": [
    "ДатаФрейм визитов"
   ]
  },
  {
   "cell_type": "code",
   "execution_count": 107,
   "id": "8918d7a3-e052-44d6-9463-392d10c6b0df",
   "metadata": {},
   "outputs": [
    {
     "data": {
      "text/html": [
       "<div>\n",
       "<style scoped>\n",
       "    .dataframe tbody tr th:only-of-type {\n",
       "        vertical-align: middle;\n",
       "    }\n",
       "\n",
       "    .dataframe tbody tr th {\n",
       "        vertical-align: top;\n",
       "    }\n",
       "\n",
       "    .dataframe thead th {\n",
       "        text-align: right;\n",
       "    }\n",
       "</style>\n",
       "<table border=\"1\" class=\"dataframe\">\n",
       "  <thead>\n",
       "    <tr style=\"text-align: right;\">\n",
       "      <th></th>\n",
       "      <th>visit_id</th>\n",
       "      <th>platform</th>\n",
       "      <th>user_agent</th>\n",
       "      <th>datetime</th>\n",
       "    </tr>\n",
       "  </thead>\n",
       "  <tbody>\n",
       "    <tr>\n",
       "      <th>0</th>\n",
       "      <td>1de9ea66-70d3-4a1f-8735-df5ef7697fb9</td>\n",
       "      <td>web</td>\n",
       "      <td>Mozilla/5.0 (Windows NT 10.0; Win64; x64) Appl...</td>\n",
       "      <td>2023-03-01T10:36:22</td>\n",
       "    </tr>\n",
       "    <tr>\n",
       "      <th>1</th>\n",
       "      <td>f149f542-e935-4870-9734-6b4501eaf614</td>\n",
       "      <td>web</td>\n",
       "      <td>Mozilla/5.0 (Windows NT 10.0; WOW64; Trident/7...</td>\n",
       "      <td>2023-03-01T06:25:00</td>\n",
       "    </tr>\n",
       "    <tr>\n",
       "      <th>2</th>\n",
       "      <td>08f0ebd4-950c-4dd9-8e97-b5bdf073eed1</td>\n",
       "      <td>web</td>\n",
       "      <td>Mozilla/5.0 (Macintosh; Intel Mac OS X 10_11_2...</td>\n",
       "      <td>2023-03-01T10:26:13</td>\n",
       "    </tr>\n",
       "    <tr>\n",
       "      <th>3</th>\n",
       "      <td>19322fed-157c-49c6-b16e-2d5cabeb9592</td>\n",
       "      <td>web</td>\n",
       "      <td>Mozilla/5.0 (Macintosh; Intel Mac OS X 10_15_7...</td>\n",
       "      <td>2023-03-01T12:33:06</td>\n",
       "    </tr>\n",
       "    <tr>\n",
       "      <th>4</th>\n",
       "      <td>04762a22-3c9f-40c9-9ac9-6628c4381836</td>\n",
       "      <td>web</td>\n",
       "      <td>Mozilla/5.0 (Windows NT 10.0; Win64; x64) Appl...</td>\n",
       "      <td>2023-03-01T01:38:35</td>\n",
       "    </tr>\n",
       "    <tr>\n",
       "      <th>...</th>\n",
       "      <td>...</td>\n",
       "      <td>...</td>\n",
       "      <td>...</td>\n",
       "      <td>...</td>\n",
       "    </tr>\n",
       "    <tr>\n",
       "      <th>263454</th>\n",
       "      <td>6d2e2f5b-970b-4dfe-8f57-25711a5b2a5d</td>\n",
       "      <td>web</td>\n",
       "      <td>Mozilla/5.0 (Macintosh; Intel Mac OS X 10_15_7...</td>\n",
       "      <td>2023-08-29T10:43:29</td>\n",
       "    </tr>\n",
       "    <tr>\n",
       "      <th>263455</th>\n",
       "      <td>1d91535e-d984-4f76-bbaa-c14c0fd4f2e2</td>\n",
       "      <td>web</td>\n",
       "      <td>Mozilla/5.0 (X11; Ubuntu; Linux x86_64; rv:109...</td>\n",
       "      <td>2023-08-29T19:29:16</td>\n",
       "    </tr>\n",
       "    <tr>\n",
       "      <th>263456</th>\n",
       "      <td>f2496721-7126-430d-976e-777a6cdccb4f</td>\n",
       "      <td>web</td>\n",
       "      <td>Mozilla/5.0 (Windows NT 10.0; Win64; x64) Appl...</td>\n",
       "      <td>2023-08-29T12:51:11</td>\n",
       "    </tr>\n",
       "    <tr>\n",
       "      <th>263457</th>\n",
       "      <td>f2496721-7126-430d-976e-777a6cdccb4f</td>\n",
       "      <td>web</td>\n",
       "      <td>Mozilla/5.0 (Windows NT 10.0; Win64; x64) Appl...</td>\n",
       "      <td>2023-08-29T21:45:08</td>\n",
       "    </tr>\n",
       "    <tr>\n",
       "      <th>263458</th>\n",
       "      <td>73047125-de44-4d65-8229-7218acff4ddc</td>\n",
       "      <td>web</td>\n",
       "      <td>Mozilla/5.0 (X11; Ubuntu; Linux x86_64; rv:109...</td>\n",
       "      <td>2023-08-30T19:19:04</td>\n",
       "    </tr>\n",
       "  </tbody>\n",
       "</table>\n",
       "<p>263459 rows × 4 columns</p>\n",
       "</div>"
      ],
      "text/plain": [
       "                                    visit_id platform  \\\n",
       "0       1de9ea66-70d3-4a1f-8735-df5ef7697fb9      web   \n",
       "1       f149f542-e935-4870-9734-6b4501eaf614      web   \n",
       "2       08f0ebd4-950c-4dd9-8e97-b5bdf073eed1      web   \n",
       "3       19322fed-157c-49c6-b16e-2d5cabeb9592      web   \n",
       "4       04762a22-3c9f-40c9-9ac9-6628c4381836      web   \n",
       "...                                      ...      ...   \n",
       "263454  6d2e2f5b-970b-4dfe-8f57-25711a5b2a5d      web   \n",
       "263455  1d91535e-d984-4f76-bbaa-c14c0fd4f2e2      web   \n",
       "263456  f2496721-7126-430d-976e-777a6cdccb4f      web   \n",
       "263457  f2496721-7126-430d-976e-777a6cdccb4f      web   \n",
       "263458  73047125-de44-4d65-8229-7218acff4ddc      web   \n",
       "\n",
       "                                               user_agent             datetime  \n",
       "0       Mozilla/5.0 (Windows NT 10.0; Win64; x64) Appl...  2023-03-01T10:36:22  \n",
       "1       Mozilla/5.0 (Windows NT 10.0; WOW64; Trident/7...  2023-03-01T06:25:00  \n",
       "2       Mozilla/5.0 (Macintosh; Intel Mac OS X 10_11_2...  2023-03-01T10:26:13  \n",
       "3       Mozilla/5.0 (Macintosh; Intel Mac OS X 10_15_7...  2023-03-01T12:33:06  \n",
       "4       Mozilla/5.0 (Windows NT 10.0; Win64; x64) Appl...  2023-03-01T01:38:35  \n",
       "...                                                   ...                  ...  \n",
       "263454  Mozilla/5.0 (Macintosh; Intel Mac OS X 10_15_7...  2023-08-29T10:43:29  \n",
       "263455  Mozilla/5.0 (X11; Ubuntu; Linux x86_64; rv:109...  2023-08-29T19:29:16  \n",
       "263456  Mozilla/5.0 (Windows NT 10.0; Win64; x64) Appl...  2023-08-29T12:51:11  \n",
       "263457  Mozilla/5.0 (Windows NT 10.0; Win64; x64) Appl...  2023-08-29T21:45:08  \n",
       "263458  Mozilla/5.0 (X11; Ubuntu; Linux x86_64; rv:109...  2023-08-30T19:19:04  \n",
       "\n",
       "[263459 rows x 4 columns]"
      ]
     },
     "execution_count": 107,
     "metadata": {},
     "output_type": "execute_result"
    }
   ],
   "source": [
    "df_visits = fetch_df(\"visits\", DATE_BEGIN, DATE_END)\n",
    "df_visits"
   ]
  },
  {
   "cell_type": "markdown",
   "id": "674a68d1-2411-41a3-8a74-e86412e4b450",
   "metadata": {},
   "source": [
    "Датафрейм регистраций"
   ]
  },
  {
   "cell_type": "code",
   "execution_count": 108,
   "id": "13ad61e1-ffbb-45b7-9009-a6ce5e626c45",
   "metadata": {},
   "outputs": [
    {
     "data": {
      "text/html": [
       "<div>\n",
       "<style scoped>\n",
       "    .dataframe tbody tr th:only-of-type {\n",
       "        vertical-align: middle;\n",
       "    }\n",
       "\n",
       "    .dataframe tbody tr th {\n",
       "        vertical-align: top;\n",
       "    }\n",
       "\n",
       "    .dataframe thead th {\n",
       "        text-align: right;\n",
       "    }\n",
       "</style>\n",
       "<table border=\"1\" class=\"dataframe\">\n",
       "  <thead>\n",
       "    <tr style=\"text-align: right;\">\n",
       "      <th></th>\n",
       "      <th>datetime</th>\n",
       "      <th>user_id</th>\n",
       "      <th>email</th>\n",
       "      <th>platform</th>\n",
       "      <th>registration_type</th>\n",
       "    </tr>\n",
       "  </thead>\n",
       "  <tbody>\n",
       "    <tr>\n",
       "      <th>0</th>\n",
       "      <td>2023-03-01T07:40:13</td>\n",
       "      <td>2e0f6bb8-b029-4f45-a786-2b53990d37f1</td>\n",
       "      <td>ebyrd@example.org</td>\n",
       "      <td>web</td>\n",
       "      <td>google</td>\n",
       "    </tr>\n",
       "    <tr>\n",
       "      <th>1</th>\n",
       "      <td>2023-03-01T13:14:00</td>\n",
       "      <td>f007f97c-9d8b-48b5-af08-119bb8f6d9b6</td>\n",
       "      <td>knightgerald@example.org</td>\n",
       "      <td>web</td>\n",
       "      <td>email</td>\n",
       "    </tr>\n",
       "    <tr>\n",
       "      <th>2</th>\n",
       "      <td>2023-03-01T03:05:50</td>\n",
       "      <td>24ff46ae-32b3-4a74-8f27-7cf0b8f32f15</td>\n",
       "      <td>cherylthompson@example.com</td>\n",
       "      <td>web</td>\n",
       "      <td>apple</td>\n",
       "    </tr>\n",
       "    <tr>\n",
       "      <th>3</th>\n",
       "      <td>2023-03-01T00:04:47</td>\n",
       "      <td>3e9914e1-5d73-4c23-b25d-b59a3aeb2b60</td>\n",
       "      <td>halldavid@example.org</td>\n",
       "      <td>web</td>\n",
       "      <td>email</td>\n",
       "    </tr>\n",
       "    <tr>\n",
       "      <th>4</th>\n",
       "      <td>2023-03-01T18:31:52</td>\n",
       "      <td>27f875fc-f8ce-4aeb-8722-0ecb283d0760</td>\n",
       "      <td>denise86@example.net</td>\n",
       "      <td>web</td>\n",
       "      <td>google</td>\n",
       "    </tr>\n",
       "    <tr>\n",
       "      <th>...</th>\n",
       "      <td>...</td>\n",
       "      <td>...</td>\n",
       "      <td>...</td>\n",
       "      <td>...</td>\n",
       "      <td>...</td>\n",
       "    </tr>\n",
       "    <tr>\n",
       "      <th>21831</th>\n",
       "      <td>2023-08-31T07:32:08</td>\n",
       "      <td>a94b4a28-f25c-433c-b4ef-85af7d5b0c11</td>\n",
       "      <td>ikelley@example.net</td>\n",
       "      <td>ios</td>\n",
       "      <td>apple</td>\n",
       "    </tr>\n",
       "    <tr>\n",
       "      <th>21832</th>\n",
       "      <td>2023-08-31T23:25:50</td>\n",
       "      <td>fc709c6b-528b-40d8-8980-c2c278e5a628</td>\n",
       "      <td>brittanycox@example.net</td>\n",
       "      <td>ios</td>\n",
       "      <td>apple</td>\n",
       "    </tr>\n",
       "    <tr>\n",
       "      <th>21833</th>\n",
       "      <td>2023-08-31T19:29:18</td>\n",
       "      <td>11e32805-7571-4108-8e50-e211d051bf7e</td>\n",
       "      <td>aryan@example.net</td>\n",
       "      <td>ios</td>\n",
       "      <td>apple</td>\n",
       "    </tr>\n",
       "    <tr>\n",
       "      <th>21834</th>\n",
       "      <td>2023-08-31T19:38:54</td>\n",
       "      <td>bce7b818-768b-434a-b6af-573cd60bff7f</td>\n",
       "      <td>emartinez@example.net</td>\n",
       "      <td>ios</td>\n",
       "      <td>email</td>\n",
       "    </tr>\n",
       "    <tr>\n",
       "      <th>21835</th>\n",
       "      <td>2023-08-31T08:36:05</td>\n",
       "      <td>fe03e08a-8e86-4b5f-9a50-c18a02b0d234</td>\n",
       "      <td>terriperry@example.net</td>\n",
       "      <td>ios</td>\n",
       "      <td>email</td>\n",
       "    </tr>\n",
       "  </tbody>\n",
       "</table>\n",
       "<p>21836 rows × 5 columns</p>\n",
       "</div>"
      ],
      "text/plain": [
       "                  datetime                               user_id  \\\n",
       "0      2023-03-01T07:40:13  2e0f6bb8-b029-4f45-a786-2b53990d37f1   \n",
       "1      2023-03-01T13:14:00  f007f97c-9d8b-48b5-af08-119bb8f6d9b6   \n",
       "2      2023-03-01T03:05:50  24ff46ae-32b3-4a74-8f27-7cf0b8f32f15   \n",
       "3      2023-03-01T00:04:47  3e9914e1-5d73-4c23-b25d-b59a3aeb2b60   \n",
       "4      2023-03-01T18:31:52  27f875fc-f8ce-4aeb-8722-0ecb283d0760   \n",
       "...                    ...                                   ...   \n",
       "21831  2023-08-31T07:32:08  a94b4a28-f25c-433c-b4ef-85af7d5b0c11   \n",
       "21832  2023-08-31T23:25:50  fc709c6b-528b-40d8-8980-c2c278e5a628   \n",
       "21833  2023-08-31T19:29:18  11e32805-7571-4108-8e50-e211d051bf7e   \n",
       "21834  2023-08-31T19:38:54  bce7b818-768b-434a-b6af-573cd60bff7f   \n",
       "21835  2023-08-31T08:36:05  fe03e08a-8e86-4b5f-9a50-c18a02b0d234   \n",
       "\n",
       "                            email platform registration_type  \n",
       "0               ebyrd@example.org      web            google  \n",
       "1        knightgerald@example.org      web             email  \n",
       "2      cherylthompson@example.com      web             apple  \n",
       "3           halldavid@example.org      web             email  \n",
       "4            denise86@example.net      web            google  \n",
       "...                           ...      ...               ...  \n",
       "21831         ikelley@example.net      ios             apple  \n",
       "21832     brittanycox@example.net      ios             apple  \n",
       "21833           aryan@example.net      ios             apple  \n",
       "21834       emartinez@example.net      ios             email  \n",
       "21835      terriperry@example.net      ios             email  \n",
       "\n",
       "[21836 rows x 5 columns]"
      ]
     },
     "execution_count": 108,
     "metadata": {},
     "output_type": "execute_result"
    }
   ],
   "source": [
    "df_regs = fetch_df(\"registrations\", DATE_BEGIN, DATE_END)\n",
    "df_regs"
   ]
  },
  {
   "cell_type": "markdown",
   "id": "f1140234-9a26-4b49-aa78-0068fd118721",
   "metadata": {},
   "source": [
    "# Шаг 3"
   ]
  },
  {
   "cell_type": "markdown",
   "id": "6a9aa379-e5d5-4c26-9c28-df5aabe28b03",
   "metadata": {},
   "source": [
    "Нам необходимо рассчитать конверсию из визита в регистрацию. В первую очередь необходимо отсеять SEO ботов из визитов. Для этого создадим булеву маски."
   ]
  },
  {
   "cell_type": "markdown",
   "id": "87101f20-181b-4307-90dd-5ebb0397bdec",
   "metadata": {},
   "source": [
    "### Подготовка визитов "
   ]
  },
  {
   "cell_type": "markdown",
   "id": "73653948-cee8-497a-90b1-674fbd403a7a",
   "metadata": {},
   "source": [
    "В первую очередь необходимо отсеять SEO ботов из визитов. Для этого создадим булеву маски."
   ]
  },
  {
   "cell_type": "code",
   "execution_count": 109,
   "id": "dfb91e98-641c-4aab-8b0b-f358f74ede30",
   "metadata": {},
   "outputs": [],
   "source": [
    "non_bot_mask = ~df_visits['user_agent'].str.contains('bot', case=False, na=False)"
   ]
  },
  {
   "cell_type": "markdown",
   "id": "afe21efd-94f9-4b2b-aa7f-056a62d59942",
   "metadata": {},
   "source": [
    "применяем маску к Датафрейму visits"
   ]
  },
  {
   "cell_type": "code",
   "execution_count": 110,
   "id": "f8653c78-42e1-42c1-981c-278d7a44e834",
   "metadata": {},
   "outputs": [],
   "source": [
    "visits_non_bot = df_visits[non_bot_mask].copy()\n"
   ]
  },
  {
   "cell_type": "markdown",
   "id": "26ae9a07-cb99-4cfc-a1f9-f2add3b4fb73",
   "metadata": {},
   "source": [
    "Приводим колонку Datetime, к необходимому типу. Изначально это object."
   ]
  },
  {
   "cell_type": "code",
   "execution_count": 111,
   "id": "69294988-6a03-41e6-9aa3-c04ec70b8cbc",
   "metadata": {},
   "outputs": [],
   "source": [
    "visits_non_bot[\"datetime\"] = pd.to_datetime(visits_non_bot[\"datetime\"], utc=True, errors=\"coerce\")"
   ]
  },
  {
   "cell_type": "markdown",
   "id": "690ae8ac-7357-4281-ab82-ae81d7ccba9b",
   "metadata": {},
   "source": [
    "Берём только последние визиты используя метод .dropduplicates"
   ]
  },
  {
   "cell_type": "code",
   "execution_count": 112,
   "id": "946171b5-a2d5-49cf-8100-7291959e708b",
   "metadata": {},
   "outputs": [],
   "source": [
    "last_visits = (visits_non_bot.sort_values(\"datetime\").drop_duplicates(subset=\"visit_id\",keep=\"last\"))"
   ]
  },
  {
   "cell_type": "markdown",
   "id": "0beb1601-cd79-4128-adb8-fc42f40d6504",
   "metadata": {},
   "source": [
    "добавим столбец с только с днем, для оптимальной группировки данных по дню "
   ]
  },
  {
   "cell_type": "code",
   "execution_count": 113,
   "id": "3ff25759-c691-404a-94e4-205f27f3a982",
   "metadata": {},
   "outputs": [],
   "source": [
    "last_visits[\"date_group\"] = last_visits[\"datetime\"].dt.date"
   ]
  },
  {
   "cell_type": "markdown",
   "id": "140156d6-b124-43d5-81f8-756940d259f0",
   "metadata": {},
   "source": [
    "Подсчитываем количество визитов в день по 3 платформам "
   ]
  },
  {
   "cell_type": "code",
   "execution_count": 114,
   "id": "093ed8a3-3553-47f7-b575-0bd8b2008048",
   "metadata": {},
   "outputs": [],
   "source": [
    "visits_grouped = last_visits.groupby([\"date_group\", \"platform\"]).size().reset_index(name=\"visits\")"
   ]
  },
  {
   "cell_type": "markdown",
   "id": "176573c9-b295-437e-ab86-f59d495c6d3b",
   "metadata": {},
   "source": [
    "### Подготовка регистраций"
   ]
  },
  {
   "cell_type": "code",
   "execution_count": 115,
   "id": "336860f9-9231-48ab-9962-69ed4459e2ab",
   "metadata": {},
   "outputs": [],
   "source": [
    "df_regs[\"datetime\"] = pd.to_datetime(df_regs[\"datetime\"], utc=True, errors=\"coerce\")"
   ]
  },
  {
   "cell_type": "code",
   "execution_count": 116,
   "id": "983ba3dc-f659-4485-b630-ff762f9bd3e7",
   "metadata": {},
   "outputs": [],
   "source": [
    "df_regs[\"date_group\"] = df_regs[\"datetime\"].dt.date"
   ]
  },
  {
   "cell_type": "code",
   "execution_count": 117,
   "id": "e43d3583-2d72-4b84-a488-48b01c01a3d9",
   "metadata": {},
   "outputs": [],
   "source": [
    "regs_grouped = df_regs.groupby([\"date_group\", \"platform\"]).size().reset_index(name=\"registrations\")"
   ]
  },
  {
   "cell_type": "markdown",
   "id": "61944b00-276e-45d0-9b56-0f35857cd7c3",
   "metadata": {},
   "source": [
    "### Подготовка общего датафрейма"
   ]
  },
  {
   "cell_type": "markdown",
   "id": "0cfab769-6273-46c7-ac51-22509e85a68b",
   "metadata": {},
   "source": [
    "Объединим датафреймы по date_group, platform"
   ]
  },
  {
   "cell_type": "code",
   "execution_count": 118,
   "id": "ed3ca9ee-4494-4956-9aa2-96c615a9f6ee",
   "metadata": {},
   "outputs": [],
   "source": [
    "conversion_df = visits_grouped.merge(regs_grouped, on=[\"date_group\", \"platform\"],how=\"left\")\n"
   ]
  },
  {
   "cell_type": "markdown",
   "id": "0e81af43-14ff-4709-8116-fa8ea88f146a",
   "metadata": {},
   "source": [
    "Вычислим конверсию"
   ]
  },
  {
   "cell_type": "code",
   "execution_count": 119,
   "id": "34265c26-418f-4812-a35b-2d758225bf4c",
   "metadata": {},
   "outputs": [],
   "source": [
    "conversion_df[\"conversion\"] = ((conversion_df[\"registrations\"] / conversion_df[\"visits\"]) * 100).round(2)"
   ]
  },
  {
   "cell_type": "markdown",
   "id": "4f69aa2b-0357-404c-91da-6702d4a99941",
   "metadata": {},
   "source": [
    "Записываем Датафрейм в json файл "
   ]
  },
  {
   "cell_type": "code",
   "execution_count": 120,
   "id": "fac59768-31fc-4413-8158-865b87541048",
   "metadata": {},
   "outputs": [],
   "source": [
    "conversion_df.to_json(\"./conversion.json\")"
   ]
  },
  {
   "cell_type": "markdown",
   "id": "e37b9f9b-d334-4fb3-9734-210f11dc1a7d",
   "metadata": {},
   "source": [
    "## Шаг 4"
   ]
  },
  {
   "cell_type": "markdown",
   "id": "1deb13a6-1cfb-4444-b34b-c0a29bc353ec",
   "metadata": {},
   "source": [
    "В этом шаге добавим данные по рекламным кампаниям. На выходе получим датафрейм со следующими полями:\n",
    "\n",
    "    date_group — дата\n",
    "    visits — визиты в дату\n",
    "    registrations — регистрации в дату\n",
    "    cost — затраты на рекламу, 0 если не было затрат\n",
    "    utm_campaign — название рекламной кампании, none если не было в этот период рекламы\n"
   ]
  },
  {
   "cell_type": "markdown",
   "id": "0fccb0da-f214-4f98-8996-921369106f02",
   "metadata": {},
   "source": [
    "В первую очередь необходимо, создать датафрейм из csv файла и привести колнку с датами к datetime. "
   ]
  },
  {
   "cell_type": "code",
   "execution_count": 121,
   "id": "fdea6ed8-4ec9-4926-b1ec-a4bbe0d53642",
   "metadata": {},
   "outputs": [],
   "source": [
    "ads_df = pd.read_csv(\"./ads.csv\")"
   ]
  },
  {
   "cell_type": "code",
   "execution_count": 122,
   "id": "d347094f-3b59-42b7-82b1-f22425ac7e69",
   "metadata": {},
   "outputs": [
    {
     "name": "stdout",
     "output_type": "stream",
     "text": [
      "<class 'pandas.core.frame.DataFrame'>\n",
      "RangeIndex: 159 entries, 0 to 158\n",
      "Data columns (total 5 columns):\n",
      " #   Column        Non-Null Count  Dtype \n",
      "---  ------        --------------  ----- \n",
      " 0   date          159 non-null    object\n",
      " 1   utm_source    159 non-null    object\n",
      " 2   utm_medium    159 non-null    object\n",
      " 3   utm_campaign  159 non-null    object\n",
      " 4   cost          159 non-null    int64 \n",
      "dtypes: int64(1), object(4)\n",
      "memory usage: 6.3+ KB\n"
     ]
    }
   ],
   "source": [
    "ads_df.info()"
   ]
  },
  {
   "cell_type": "markdown",
   "id": "5131928b-8693-40bf-8df5-1e7b49f47bbb",
   "metadata": {},
   "source": [
    "Обработаем таблицу"
   ]
  },
  {
   "cell_type": "code",
   "execution_count": 123,
   "id": "996b7b98-acd3-4b05-8550-3ed5f0f03a12",
   "metadata": {},
   "outputs": [],
   "source": [
    "ads_df[\"date\"] = pd.to_datetime(ads_df[\"date\"], utc=True,errors=\"coerce\")\n",
    "ads_df[\"date_group\"] = ads_df[\"date\"].dt.date\n",
    "ads_df = ads_df.groupby([\"date_group\", \"utm_campaign\"]).agg({\"cost\": \"sum\"}).reset_index()"
   ]
  },
  {
   "cell_type": "markdown",
   "id": "74f63588-12e9-4cb6-ae6e-af3cfc0f7752",
   "metadata": {},
   "source": [
    "Подготовим таблицу с визитами и регистрациями. Сделаем ее из датафрейма конверсий."
   ]
  },
  {
   "cell_type": "code",
   "execution_count": 124,
   "id": "946c55ca-94a2-4096-9adf-580dd3e831f9",
   "metadata": {},
   "outputs": [],
   "source": [
    "visits_and_regs = conversion_df.copy()\n",
    "visits_and_regs = visits_and_regs.drop([\"conversion\",], axis=1)\n",
    "agg_dict ={\"visits\": \"sum\", \"registrations\": \"sum\"}\n",
    "visits_and_regs = visits_and_regs.groupby([\"date_group\"]).agg(ag_dict).reset_index()"
   ]
  },
  {
   "cell_type": "markdown",
   "id": "234e7da8-03e0-4d86-85ef-d4af30eea6b0",
   "metadata": {},
   "source": [
    "Делаеам датафрейм по заданному условию"
   ]
  },
  {
   "cell_type": "code",
   "execution_count": 125,
   "id": "3b0f7ee4-93a1-421c-922d-5f12e48f074b",
   "metadata": {},
   "outputs": [],
   "source": [
    "ads = pd.merge(visits_and_regs, \n",
    "                    ads_df,\n",
    "                    how=\"left\",\n",
    "                    on=\"date_group\")\n",
    "ads[\"cost\"] = ads[\"cost\"].fillna(0)"
   ]
  },
  {
   "cell_type": "code",
   "execution_count": 126,
   "id": "4d5a3734-9d23-45bd-b00c-8e2b33dac025",
   "metadata": {},
   "outputs": [],
   "source": [
    "ads.to_json(\"./ads.json\")"
   ]
  }
 ],
 "metadata": {
  "kernelspec": {
   "display_name": "Python [conda env:base] *",
   "language": "python",
   "name": "conda-base-py"
  },
  "language_info": {
   "codemirror_mode": {
    "name": "ipython",
    "version": 3
   },
   "file_extension": ".py",
   "mimetype": "text/x-python",
   "name": "python",
   "nbconvert_exporter": "python",
   "pygments_lexer": "ipython3",
   "version": "3.13.5"
  }
 },
 "nbformat": 4,
 "nbformat_minor": 5
}
